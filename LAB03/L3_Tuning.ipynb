{
 "cells": [
  {
   "cell_type": "code",
   "execution_count": 2,
   "id": "a1c76cd9-e9fb-4959-b141-0f2ed3767479",
   "metadata": {},
   "outputs": [
    {
     "name": "stdout",
     "output_type": "stream",
     "text": [
      "Looking in indexes: https://pypi.org/simple, https://pypi.ngc.nvidia.com\n",
      "Requirement already satisfied: flwr==1.10.0 in c:\\users\\anuar\\anaconda3\\lib\\site-packages (from -r requirements.txt (line 5)) (1.10.0)\n"
     ]
    },
    {
     "name": "stderr",
     "output_type": "stream",
     "text": [
      "WARNING: Ignoring invalid distribution -atplotlib (c:\\users\\anuar\\anaconda3\\lib\\site-packages)\n",
      "ERROR: Could not find a version that satisfies the requirement ray==2.6.3 (from versions: none)\n",
      "ERROR: No matching distribution found for ray==2.6.3\n"
     ]
    }
   ],
   "source": [
    "!pip install -r requirements.txt"
   ]
  },
  {
   "cell_type": "code",
   "execution_count": 3,
   "id": "146e8f61-0383-402b-aeb0-ff36371a3f59",
   "metadata": {},
   "outputs": [
    {
     "name": "stdout",
     "output_type": "stream",
     "text": [
      "1.10.0\n"
     ]
    }
   ],
   "source": [
    "import flwr\n",
    "print(flwr.__version__)"
   ]
  },
  {
   "cell_type": "code",
   "execution_count": 6,
   "id": "6d81e863-ce6c-4b4d-b0c4-b31ca2663916",
   "metadata": {},
   "outputs": [
    {
     "name": "stdout",
     "output_type": "stream",
     "text": [
      "Looking in indexes: https://pypi.org/simple, https://pypi.ngc.nvidia.com\n",
      "Requirement already satisfied: matplotlib==3.8.2 in c:\\users\\anuar\\anaconda3\\lib\\site-packages (3.8.2)\n",
      "Requirement already satisfied: contourpy>=1.0.1 in c:\\users\\anuar\\anaconda3\\lib\\site-packages (from matplotlib==3.8.2) (1.3.1)\n",
      "Requirement already satisfied: cycler>=0.10 in c:\\users\\anuar\\anaconda3\\lib\\site-packages (from matplotlib==3.8.2) (0.12.1)\n",
      "Requirement already satisfied: fonttools>=4.22.0 in c:\\users\\anuar\\anaconda3\\lib\\site-packages (from matplotlib==3.8.2) (4.56.0)\n",
      "Requirement already satisfied: kiwisolver>=1.3.1 in c:\\users\\anuar\\anaconda3\\lib\\site-packages (from matplotlib==3.8.2) (1.4.8)\n",
      "Requirement already satisfied: numpy<2,>=1.21 in c:\\users\\anuar\\anaconda3\\lib\\site-packages (from matplotlib==3.8.2) (1.26.4)\n",
      "Requirement already satisfied: packaging>=20.0 in c:\\users\\anuar\\anaconda3\\lib\\site-packages (from matplotlib==3.8.2) (24.2)\n",
      "Requirement already satisfied: pillow>=8 in c:\\users\\anuar\\anaconda3\\lib\\site-packages (from matplotlib==3.8.2) (11.1.0)\n",
      "Requirement already satisfied: pyparsing>=2.3.1 in c:\\users\\anuar\\anaconda3\\lib\\site-packages (from matplotlib==3.8.2) (3.2.1)\n",
      "Requirement already satisfied: python-dateutil>=2.7 in c:\\users\\anuar\\anaconda3\\lib\\site-packages (from matplotlib==3.8.2) (2.9.0.post0)\n",
      "Requirement already satisfied: six>=1.5 in c:\\users\\anuar\\anaconda3\\lib\\site-packages (from python-dateutil>=2.7->matplotlib==3.8.2) (1.16.0)\n"
     ]
    },
    {
     "name": "stderr",
     "output_type": "stream",
     "text": [
      "WARNING: Ignoring invalid distribution -atplotlib (c:\\users\\anuar\\anaconda3\\lib\\site-packages)\n",
      "WARNING: Ignoring invalid distribution -atplotlib (c:\\users\\anuar\\anaconda3\\lib\\site-packages)\n",
      "WARNING: Ignoring invalid distribution -atplotlib (c:\\users\\anuar\\anaconda3\\lib\\site-packages)\n"
     ]
    }
   ],
   "source": [
    "!pip install matplotlib==3.8.2"
   ]
  },
  {
   "cell_type": "code",
   "execution_count": 10,
   "id": "9e5d7f70-a24d-48e7-8e2c-425b7a3088aa",
   "metadata": {},
   "outputs": [
    {
     "name": "stdout",
     "output_type": "stream",
     "text": [
      "Looking in indexes: https://pypi.org/simple, https://pypi.ngc.nvidia.com\n",
      "Collecting flwr-datasets\n",
      "  Downloading flwr_datasets-0.5.0-py3-none-any.whl.metadata (6.9 kB)\n",
      "Collecting datasets<=3.1.0,>=2.14.6 (from flwr-datasets)\n",
      "  Downloading datasets-3.1.0-py3-none-any.whl.metadata (20 kB)\n",
      "Requirement already satisfied: matplotlib<4.0.0,>=3.7.5 in c:\\users\\anuar\\anaconda3\\lib\\site-packages (from flwr-datasets) (3.8.2)\n",
      "Requirement already satisfied: numpy<3.0.0,>=1.26.0 in c:\\users\\anuar\\anaconda3\\lib\\site-packages (from flwr-datasets) (1.26.4)\n",
      "Requirement already satisfied: seaborn<0.14.0,>=0.13.0 in c:\\users\\anuar\\anaconda3\\lib\\site-packages (from flwr-datasets) (0.13.2)\n",
      "Requirement already satisfied: tqdm<5.0.0,>=4.66.1 in c:\\users\\anuar\\anaconda3\\lib\\site-packages (from flwr-datasets) (4.67.1)\n",
      "Requirement already satisfied: filelock in c:\\users\\anuar\\anaconda3\\lib\\site-packages (from datasets<=3.1.0,>=2.14.6->flwr-datasets) (3.13.1)\n",
      "Requirement already satisfied: pyarrow>=15.0.0 in c:\\users\\anuar\\anaconda3\\lib\\site-packages (from datasets<=3.1.0,>=2.14.6->flwr-datasets) (20.0.0)\n",
      "Requirement already satisfied: dill<0.3.9,>=0.3.0 in c:\\users\\anuar\\anaconda3\\lib\\site-packages (from datasets<=3.1.0,>=2.14.6->flwr-datasets) (0.3.8)\n",
      "Requirement already satisfied: pandas in c:\\users\\anuar\\anaconda3\\lib\\site-packages (from datasets<=3.1.0,>=2.14.6->flwr-datasets) (2.2.3)\n",
      "Requirement already satisfied: requests>=2.32.2 in c:\\users\\anuar\\anaconda3\\lib\\site-packages (from datasets<=3.1.0,>=2.14.6->flwr-datasets) (2.32.3)\n",
      "Requirement already satisfied: xxhash in c:\\users\\anuar\\anaconda3\\lib\\site-packages (from datasets<=3.1.0,>=2.14.6->flwr-datasets) (3.5.0)\n",
      "Requirement already satisfied: multiprocess<0.70.17 in c:\\users\\anuar\\anaconda3\\lib\\site-packages (from datasets<=3.1.0,>=2.14.6->flwr-datasets) (0.70.16)\n",
      "Requirement already satisfied: fsspec<=2024.9.0,>=2023.1.0 in c:\\users\\anuar\\anaconda3\\lib\\site-packages (from fsspec[http]<=2024.9.0,>=2023.1.0->datasets<=3.1.0,>=2.14.6->flwr-datasets) (2024.3.1)\n",
      "Requirement already satisfied: aiohttp in c:\\users\\anuar\\anaconda3\\lib\\site-packages (from datasets<=3.1.0,>=2.14.6->flwr-datasets) (3.11.10)\n",
      "Requirement already satisfied: huggingface-hub>=0.23.0 in c:\\users\\anuar\\anaconda3\\lib\\site-packages (from datasets<=3.1.0,>=2.14.6->flwr-datasets) (0.30.2)\n",
      "Requirement already satisfied: packaging in c:\\users\\anuar\\anaconda3\\lib\\site-packages (from datasets<=3.1.0,>=2.14.6->flwr-datasets) (24.2)\n",
      "Requirement already satisfied: pyyaml>=5.1 in c:\\users\\anuar\\anaconda3\\lib\\site-packages (from datasets<=3.1.0,>=2.14.6->flwr-datasets) (6.0.2)\n",
      "Requirement already satisfied: contourpy>=1.0.1 in c:\\users\\anuar\\anaconda3\\lib\\site-packages (from matplotlib<4.0.0,>=3.7.5->flwr-datasets) (1.3.1)\n",
      "Requirement already satisfied: cycler>=0.10 in c:\\users\\anuar\\anaconda3\\lib\\site-packages (from matplotlib<4.0.0,>=3.7.5->flwr-datasets) (0.12.1)\n",
      "Requirement already satisfied: fonttools>=4.22.0 in c:\\users\\anuar\\anaconda3\\lib\\site-packages (from matplotlib<4.0.0,>=3.7.5->flwr-datasets) (4.56.0)\n",
      "Requirement already satisfied: kiwisolver>=1.3.1 in c:\\users\\anuar\\anaconda3\\lib\\site-packages (from matplotlib<4.0.0,>=3.7.5->flwr-datasets) (1.4.8)\n",
      "Requirement already satisfied: pillow>=8 in c:\\users\\anuar\\anaconda3\\lib\\site-packages (from matplotlib<4.0.0,>=3.7.5->flwr-datasets) (11.1.0)\n",
      "Requirement already satisfied: pyparsing>=2.3.1 in c:\\users\\anuar\\anaconda3\\lib\\site-packages (from matplotlib<4.0.0,>=3.7.5->flwr-datasets) (3.2.1)\n",
      "Requirement already satisfied: python-dateutil>=2.7 in c:\\users\\anuar\\anaconda3\\lib\\site-packages (from matplotlib<4.0.0,>=3.7.5->flwr-datasets) (2.9.0.post0)\n",
      "Requirement already satisfied: colorama in c:\\users\\anuar\\anaconda3\\lib\\site-packages (from tqdm<5.0.0,>=4.66.1->flwr-datasets) (0.4.6)\n",
      "Requirement already satisfied: aiohappyeyeballs>=2.3.0 in c:\\users\\anuar\\anaconda3\\lib\\site-packages (from aiohttp->datasets<=3.1.0,>=2.14.6->flwr-datasets) (2.4.4)\n",
      "Requirement already satisfied: aiosignal>=1.1.2 in c:\\users\\anuar\\anaconda3\\lib\\site-packages (from aiohttp->datasets<=3.1.0,>=2.14.6->flwr-datasets) (1.2.0)\n",
      "Requirement already satisfied: attrs>=17.3.0 in c:\\users\\anuar\\anaconda3\\lib\\site-packages (from aiohttp->datasets<=3.1.0,>=2.14.6->flwr-datasets) (24.3.0)\n",
      "Requirement already satisfied: frozenlist>=1.1.1 in c:\\users\\anuar\\anaconda3\\lib\\site-packages (from aiohttp->datasets<=3.1.0,>=2.14.6->flwr-datasets) (1.5.0)\n",
      "Requirement already satisfied: multidict<7.0,>=4.5 in c:\\users\\anuar\\anaconda3\\lib\\site-packages (from aiohttp->datasets<=3.1.0,>=2.14.6->flwr-datasets) (6.1.0)\n",
      "Requirement already satisfied: propcache>=0.2.0 in c:\\users\\anuar\\anaconda3\\lib\\site-packages (from aiohttp->datasets<=3.1.0,>=2.14.6->flwr-datasets) (0.2.0)\n",
      "Requirement already satisfied: yarl<2.0,>=1.17.0 in c:\\users\\anuar\\anaconda3\\lib\\site-packages (from aiohttp->datasets<=3.1.0,>=2.14.6->flwr-datasets) (1.18.0)\n",
      "Requirement already satisfied: async-timeout<6.0,>=4.0 in c:\\users\\anuar\\anaconda3\\lib\\site-packages (from aiohttp->datasets<=3.1.0,>=2.14.6->flwr-datasets) (5.0.1)\n",
      "Requirement already satisfied: typing-extensions>=3.7.4.3 in c:\\users\\anuar\\anaconda3\\lib\\site-packages (from huggingface-hub>=0.23.0->datasets<=3.1.0,>=2.14.6->flwr-datasets) (4.12.2)\n",
      "Requirement already satisfied: pytz>=2020.1 in c:\\users\\anuar\\anaconda3\\lib\\site-packages (from pandas->datasets<=3.1.0,>=2.14.6->flwr-datasets) (2024.1)\n",
      "Requirement already satisfied: tzdata>=2022.7 in c:\\users\\anuar\\anaconda3\\lib\\site-packages (from pandas->datasets<=3.1.0,>=2.14.6->flwr-datasets) (2025.1)\n",
      "Requirement already satisfied: six>=1.5 in c:\\users\\anuar\\anaconda3\\lib\\site-packages (from python-dateutil>=2.7->matplotlib<4.0.0,>=3.7.5->flwr-datasets) (1.16.0)\n",
      "Requirement already satisfied: charset-normalizer<4,>=2 in c:\\users\\anuar\\anaconda3\\lib\\site-packages (from requests>=2.32.2->datasets<=3.1.0,>=2.14.6->flwr-datasets) (3.3.2)\n",
      "Requirement already satisfied: idna<4,>=2.5 in c:\\users\\anuar\\anaconda3\\lib\\site-packages (from requests>=2.32.2->datasets<=3.1.0,>=2.14.6->flwr-datasets) (3.7)\n",
      "Requirement already satisfied: urllib3<3,>=1.21.1 in c:\\users\\anuar\\anaconda3\\lib\\site-packages (from requests>=2.32.2->datasets<=3.1.0,>=2.14.6->flwr-datasets) (2.3.0)\n",
      "Requirement already satisfied: certifi>=2017.4.17 in c:\\users\\anuar\\anaconda3\\lib\\site-packages (from requests>=2.32.2->datasets<=3.1.0,>=2.14.6->flwr-datasets) (2025.1.31)\n",
      "Downloading flwr_datasets-0.5.0-py3-none-any.whl (87 kB)\n",
      "Downloading datasets-3.1.0-py3-none-any.whl (480 kB)\n",
      "Installing collected packages: datasets, flwr-datasets\n",
      "Successfully installed datasets-3.1.0 flwr-datasets-0.5.0\n"
     ]
    },
    {
     "name": "stderr",
     "output_type": "stream",
     "text": [
      "WARNING: Ignoring invalid distribution -atplotlib (c:\\users\\anuar\\anaconda3\\lib\\site-packages)\n",
      "WARNING: Ignoring invalid distribution -atplotlib (c:\\users\\anuar\\anaconda3\\lib\\site-packages)\n",
      "WARNING: Ignoring invalid distribution -atplotlib (c:\\users\\anuar\\anaconda3\\lib\\site-packages)\n"
     ]
    }
   ],
   "source": [
    "!pip install flwr-datasets"
   ]
  },
  {
   "cell_type": "code",
   "execution_count": 11,
   "id": "c82171ef",
   "metadata": {},
   "outputs": [],
   "source": [
    "from flwr.client import Client, ClientApp, NumPyClient\n",
    "from flwr.server import ServerApp, ServerConfig\n",
    "from flwr.server.strategy import FedAvg\n",
    "from flwr.simulation import run_simulation\n",
    "from flwr_datasets import FederatedDataset \n",
    "\n",
    "\n",
    "from utils3 import *"
   ]
  },
  {
   "cell_type": "code",
   "execution_count": 12,
   "id": "e962f521",
   "metadata": {},
   "outputs": [],
   "source": [
    "def load_data(partition_id):\n",
    "    fds = FederatedDataset(dataset=\"mnist\", partitioners={\"train\": 5})\n",
    "    partition = fds.load_partition(partition_id)\n",
    "\n",
    "    traintest = partition.train_test_split(test_size=0.2, seed=42)\n",
    "    traintest = traintest.with_transform(normalize)\n",
    "    trainset, testset = traintest[\"train\"], traintest[\"test\"]\n",
    "\n",
    "    trainloader = DataLoader(trainset, batch_size=64, shuffle=True)\n",
    "    testloader = DataLoader(testset, batch_size=64)\n",
    "    return trainloader, testloader"
   ]
  },
  {
   "cell_type": "code",
   "execution_count": 13,
   "id": "2918ba62",
   "metadata": {},
   "outputs": [],
   "source": [
    "def fit_config(server_round: int):\n",
    "    config_dict = {\n",
    "        \"local_epochs\": 2 if server_round < 3 else 5,\n",
    "    }\n",
    "    return config_dict"
   ]
  },
  {
   "cell_type": "code",
   "execution_count": 14,
   "id": "1035f210",
   "metadata": {},
   "outputs": [],
   "source": [
    "net = SimpleModel()\n",
    "params = ndarrays_to_parameters(get_weights(net))\n",
    "\n",
    "def server_fn(context: Context):\n",
    "    strategy = FedAvg(\n",
    "        min_fit_clients=5,\n",
    "        fraction_evaluate=0.0,\n",
    "        initial_parameters=params,\n",
    "        on_fit_config_fn=fit_config,  # <- NEW\n",
    "    )\n",
    "    config=ServerConfig(num_rounds=3)\n",
    "    return ServerAppComponents(\n",
    "        strategy=strategy,\n",
    "        config=config,\n",
    "    )"
   ]
  },
  {
   "cell_type": "code",
   "execution_count": 15,
   "id": "d695b7a0",
   "metadata": {},
   "outputs": [],
   "source": [
    "server = ServerApp(server_fn=server_fn)"
   ]
  },
  {
   "cell_type": "code",
   "execution_count": 16,
   "id": "d2ba1bff",
   "metadata": {},
   "outputs": [],
   "source": [
    "class FlowerClient(NumPyClient):\n",
    "    def __init__(self, net, trainloader, testloader):\n",
    "        self.net = net\n",
    "        self.trainloader = trainloader\n",
    "        self.testloader = testloader\n",
    "\n",
    "    def fit(self, parameters, config):\n",
    "        set_weights(self.net, parameters)\n",
    "\n",
    "        epochs = config[\"local_epochs\"]\n",
    "        log(INFO, f\"client trains for {epochs} epochs\")\n",
    "        train_model(self.net, self.trainloader, epochs)\n",
    "\n",
    "        return get_weights(self.net), len(self.trainloader), {}\n",
    "\n",
    "    def evaluate(self, parameters, config):\n",
    "        set_weights(self.net, parameters)\n",
    "        loss, accuracy = evaluate_model(self.net, self.testloader)\n",
    "        return loss, len(self.testloader), {\"accuracy\": accuracy}"
   ]
  },
  {
   "cell_type": "code",
   "execution_count": 17,
   "id": "0495a243",
   "metadata": {},
   "outputs": [],
   "source": [
    "def client_fn(context: Context) -> Client:\n",
    "    net = SimpleModel()\n",
    "    partition_id = int(context.node_config[\"partition-id\"])\n",
    "    trainloader, testloader = load_data(partition_id=partition_id)\n",
    "    return FlowerClient(net, trainloader, testloader).to_client()\n",
    "\n",
    "\n",
    "client = ClientApp(client_fn)"
   ]
  },
  {
   "cell_type": "code",
   "execution_count": null,
   "id": "214b2e52",
   "metadata": {},
   "outputs": [
    {
     "name": "stderr",
     "output_type": "stream",
     "text": [
      "\u001b[92mINFO \u001b[0m: Starting Flower ServerApp, config: num_rounds=3, no round_timeout\n",
      "\u001b[92mINFO \u001b[0m: \n",
      "\u001b[92mINFO \u001b[0m: [INIT]\n",
      "\u001b[92mINFO \u001b[0m: Using initial global parameters provided by strategy\n",
      "\u001b[92mINFO \u001b[0m: Evaluating initial global parameters\n",
      "\u001b[92mINFO \u001b[0m: \n",
      "\u001b[92mINFO \u001b[0m: [ROUND 1]\n",
      "\u001b[92mINFO \u001b[0m: configure_fit: strategy sampled 5 clients (out of 5)\n"
     ]
    }
   ],
   "source": [
    "run_simulation(server_app=server,\n",
    "               client_app=client,\n",
    "               num_supernodes=5,\n",
    "               backend_config=backend_setup\n",
    "               )"
   ]
  },
  {
   "cell_type": "code",
   "execution_count": null,
   "id": "ad18a4e2",
   "metadata": {},
   "outputs": [],
   "source": []
  }
 ],
 "metadata": {
  "kernelspec": {
   "display_name": "Python 3 (ipykernel)",
   "language": "python",
   "name": "python3"
  },
  "language_info": {
   "codemirror_mode": {
    "name": "ipython",
    "version": 3
   },
   "file_extension": ".py",
   "mimetype": "text/x-python",
   "name": "python",
   "nbconvert_exporter": "python",
   "pygments_lexer": "ipython3",
   "version": "3.10.16"
  }
 },
 "nbformat": 4,
 "nbformat_minor": 5
}
